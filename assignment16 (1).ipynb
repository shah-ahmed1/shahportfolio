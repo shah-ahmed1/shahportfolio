{
 "cells": [
  {
   "cell_type": "markdown",
   "metadata": {},
   "source": [
    "# Assignment 16\n",
    "\n",
    "Below is a class called `MotionDetector` that takes an MP4 filename as an argument upon class instantiation and then is intended to perform several manipulations of the underlying video. Upon class instantiation, the member function `create_grayscale_video_matrix` extracts each frame from from the video and converts the color images to grayscale. Each frame is represented by and integer number between 0 and 255 in a  array where  is the number of pixel in the height and  is the number of pixes along the width of the frame. Each of these arrays are \"flattened\", i.e. turned into a one-dimensional array, and then \"stacked\" into a matrix where every row represents the flattened array from each frame in the movie.\n",
    "\n",
    "Your assignment is to implement the function `compute_low_rank_images`. The function should compute the SVD of the class attribute `images_matrix`, and modify `images_matrix` to contain the \"low rank\" matrix. The keyword argument \"rank\" refers to the number of singular values that should be used when recontructing the images_matrix. To be clear, your SVD should return three matrices, $\\mathbf{U}, \\boldsymbol{\\Sigma}, \\mathbf{V}$, then you should modify these matrices to exclude all singular values greater than rank and then multiply the matrices back together and assign it to the class attribute `images_matrix`.\n",
    "\n",
    "After you do this, you should be able to call `compute_low_rank_images` (with a small value for rank), followed by `create_movie` and `display_movie`. What do you see?\n",
    "\n",
    "The original video is displayed for reference currently. Please comment this cell out (and any other cells you used for debugging) leaving only the class definition."
   ]
  },
  {
   "cell_type": "code",
   "execution_count": 1,
   "metadata": {},
   "outputs": [],
   "source": [
    "import cv2\n",
    "import numpy as np\n",
    "import os\n",
    "from IPython.display import HTML\n",
    "import matplotlib.pyplot as plt\n",
    "import shutil\n",
    "\n",
    "class MotionDetector():\n",
    "\n",
    "    def __init__(self, filename):\n",
    "        self.filename = filename\n",
    "        self.image_directory_name = '.frames'\n",
    "        self.create_grayscale_video_matrix()\n",
    "\n",
    "    def __del__(self):\n",
    "        if os.path.isdir(self.image_directory_name):\n",
    "            shutil.rmtree(self.image_directory_name)\n",
    "\n",
    "    def create_grayscale_video_matrix(self):\n",
    "        vidcap = cv2.VideoCapture(self.filename)\n",
    "        success, image = vidcap.read()\n",
    "        count = 0\n",
    "        while success:\n",
    "            gray_image = cv2.cvtColor(image, cv2.COLOR_BGR2GRAY)\n",
    "            if count == 0:\n",
    "                images = gray_image.flatten().reshape((1, -1))\n",
    "            images = np.append(images, [gray_image.flatten()], axis=0)\n",
    "            success, image = vidcap.read()\n",
    "            count += 1\n",
    "        self.image_shape = gray_image.shape\n",
    "        self.images_matrix = images.astype('int')\n",
    "        self.number_of_frames = count\n",
    "\n",
    "        return\n",
    "    \n",
    "    def write_images(self, basename=None):\n",
    "        if basename is None:\n",
    "            basename = '{}_frame'.format(self.filename.split('.')[0])\n",
    "        if not os.path.isdir(self.image_directory_name):\n",
    "            os.mkdir(self.image_directory_name)\n",
    "        for i, img in enumerate(self.images_matrix):\n",
    "            img = img.reshape(self.image_shape)\n",
    "            filepath = os.path.join(self.image_directory_name, '{}{}.png'.format(basename, i))\n",
    "            if os.path.isfile(filepath):\n",
    "                os.remove(filepath)\n",
    "            cv2.imwrite(filepath, img)\n",
    "\n",
    "    def compute_low_rank_images(self, rank=2):\n",
    "        U, S, VT = np.linalg.svd(self.images_matrix, full_matrices=False)\n",
    "        \n",
    "        S_reduced = np.diag(S[:rank])\n",
    "        U_reduced = U[:, :rank]\n",
    "        VT_reduced = VT[:rank, :]\n",
    "        print(np.shape(self.images_matrix))\n",
    "        self.images_matrix = np.dot(U_reduced, np.dot(S_reduced, VT_reduced)).astype('int')\n",
    "        \n",
    "\n",
    "        return\n",
    "\n",
    "    def create_image_difference(self, rank=2):\n",
    "        original_images = self.images_matrix.copy()\n",
    "        self.compute_low_rank_images(rank=rank)\n",
    "        self.images_matrix -= original_images\n",
    "\n",
    "    def create_movie(self, basename=None):\n",
    "        if basename is None:\n",
    "            basename = '{}_modified'.format(self.filename.split('.')[0])\n",
    "        self.write_images(basename)\n",
    "        os.system('ffmpeg -y -i {}/{}%d.png -vcodec libx264 {}.mp4'.format(self.image_directory_name, basename, basename))\n",
    "\n",
    "    def display_original_movie(self):\n",
    "        video_path = self.filename\n",
    "        return HTML(\"\"\"\n",
    "        <video width=\"600\" height=\"400\" controls=\"\">\n",
    "        <source src=\"{0}\">\n",
    "        </video>\n",
    "        \"\"\".format(video_path))\n",
    "\n",
    "    def display_movie(self, basename=None):\n",
    "        if basename is None:\n",
    "            basename = '{}_modified'.format(self.filename.split('.')[0])\n",
    "        video_path = '{}.mp4'.format(basename)\n",
    "        return HTML(\"\"\"\n",
    "        <video width=\"600\" height=\"400\" controls=\"\">\n",
    "        <source src=\"{0}\">\n",
    "        </video>\n",
    "        \"\"\".format(video_path))\n",
    "\n",
    "    def display_image_plot(self):\n",
    "        plt.figure(figsize=(12, 12))\n",
    "        ax = plt.imshow(self.images_matrix.T, cmap='gray', aspect='auto')\n",
    "\n",
    "    def save_image_array(self, basename=None):\n",
    "        if basename is None:\n",
    "            basename = '{}_modified'.format(self.filename.split('.')[0])\n",
    "        np.save('{}.npy'.format(basename), self.images_matrix)\n"
   ]
  },
  {
   "cell_type": "code",
   "execution_count": 2,
   "metadata": {},
   "outputs": [
    {
     "data": {
      "text/html": [
       "\n",
       "        <video width=\"600\" height=\"400\" controls=\"\">\n",
       "        <source src=\"pumpjack.mp4\">\n",
       "        </video>\n",
       "        "
      ],
      "text/plain": [
       "<IPython.core.display.HTML object>"
      ]
     },
     "execution_count": 2,
     "metadata": {},
     "output_type": "execute_result"
    }
   ],
   "source": [
    "md = MotionDetector('pumpjack.mp4')\n",
    "md.image_directory_name = 'images'\n",
    "md.display_original_movie()"
   ]
  },
  {
   "cell_type": "code",
   "execution_count": 3,
   "metadata": {},
   "outputs": [
    {
     "name": "stderr",
     "output_type": "stream",
     "text": [
      "ffmpeg version 4.3.6-0+deb11u1 Copyright (c) 2000-2023 the FFmpeg developers\n",
      "  built with gcc 10 (Debian 10.2.1-6)\n",
      "  configuration: --prefix=/usr --extra-version=0+deb11u1 --toolchain=hardened --libdir=/usr/lib/x86_64-linux-gnu --incdir=/usr/include/x86_64-linux-gnu --arch=amd64 --enable-gpl --disable-stripping --enable-avresample --disable-filter=resample --enable-gnutls --enable-ladspa --enable-libaom --enable-libass --enable-libbluray --enable-libbs2b --enable-libcaca --enable-libcdio --enable-libcodec2 --enable-libdav1d --enable-libflite --enable-libfontconfig --enable-libfreetype --enable-libfribidi --enable-libgme --enable-libgsm --enable-libjack --enable-libmp3lame --enable-libmysofa --enable-libopenjpeg --enable-libopenmpt --enable-libopus --enable-libpulse --enable-librabbitmq --enable-librsvg --enable-librubberband --enable-libshine --enable-libsnappy --enable-libsoxr --enable-libspeex --enable-libsrt --enable-libssh --enable-libtheora --enable-libtwolame --enable-libvidstab --enable-libvorbis --enable-libvpx --enable-libwavpack --enable-libwebp --enable-libx265 --enable-libxml2 --enable-libxvid --enable-libzmq --enable-libzvbi --enable-lv2 --enable-omx --enable-openal --enable-opencl --enable-opengl --enable-sdl2 --enable-pocketsphinx --enable-libmfx --enable-libdc1394 --enable-libdrm --enable-libiec61883 --enable-chromaprint --enable-frei0r --enable-libx264 --enable-shared\n",
      "  libavutil      56. 51.100 / 56. 51.100\n",
      "  libavcodec     58. 91.100 / 58. 91.100\n",
      "  libavformat    58. 45.100 / 58. 45.100\n",
      "  libavdevice    58. 10.100 / 58. 10.100\n",
      "  libavfilter     7. 85.100 /  7. 85.100\n",
      "  libavresample   4.  0.  0 /  4.  0.  0\n",
      "  libswscale      5.  7.100 /  5.  7.100\n",
      "  libswresample   3.  7.100 /  3.  7.100\n",
      "  libpostproc    55.  7.100 / 55.  7.100\n",
      "Input #0, image2, from 'images/pumpjack_modified%d.png':\n",
      "  Duration: 00:00:09.08, start: 0.000000, bitrate: N/A\n",
      "    Stream #0:0: Video: png, gray(pc), 254x144, 25 fps, 25 tbr, 25 tbn, 25 tbc\n",
      "Stream mapping:\n",
      "  Stream #0:0 -> #0:0 (png (native) -> h264 (libx264))\n",
      "Press [q] to stop, [?] for help\n",
      "[libx264 @ 0x55b38fcba780] using cpu capabilities: MMX2 SSE2Fast SSSE3 SSE4.2 AVX FMA3 BMI2 AVX2\n",
      "[libx264 @ 0x55b38fcba780] profile High, level 1.2, 4:0:0, 8-bit\n",
      "[libx264 @ 0x55b38fcba780] 264 - core 160 r3011 cde9a93 - H.264/MPEG-4 AVC codec - Copyleft 2003-2020 - http://www.videolan.org/x264.html - options: cabac=1 ref=3 deblock=1:0:0 analyse=0x3:0x113 me=hex subme=7 psy=1 psy_rd=1.00:0.00 mixed_ref=1 me_range=16 chroma_me=0 trellis=1 8x8dct=1 cqm=0 deadzone=21,11 fast_pskip=1 chroma_qp_offset=-2 threads=3 lookahead_threads=1 sliced_threads=0 nr=0 decimate=1 interlaced=0 bluray_compat=0 constrained_intra=0 bframes=3 b_pyramid=2 b_adapt=1 b_bias=0 direct=1 weightb=1 open_gop=0 weightp=2 keyint=250 keyint_min=25 scenecut=40 intra_refresh=0 rc_lookahead=40 rc=crf mbtree=1 crf=23.0 qcomp=0.60 qpmin=0 qpmax=69 qpstep=4 ip_ratio=1.40 aq=1:1.00\n",
      "Output #0, mp4, to 'pumpjack_modified.mp4':\n",
      "  Metadata:\n",
      "    encoder         : Lavf58.45.100\n",
      "    Stream #0:0: Video: h264 (libx264) (avc1 / 0x31637661), gray, 254x144, q=-1--1, 25 fps, 12800 tbn, 25 tbc\n",
      "    Metadata:\n",
      "      encoder         : Lavc58.91.100 libx264\n",
      "    Side data:\n",
      "      cpb: bitrate max/min/avg: 0/0/0 buffer size: 0 vbv_delay: N/A\n",
      "frame=  227 fps=0.0 q=-1.0 Lsize=      83kB time=00:00:08.96 bitrate=  75.6kbits/s speed=31.8x    \n",
      "video:79kB audio:0kB subtitle:0kB other streams:0kB global headers:0kB muxing overhead: 4.373289%\n",
      "[libx264 @ 0x55b38fcba780] frame I:1     Avg QP:21.20  size:  9603\n",
      "[libx264 @ 0x55b38fcba780] frame P:76    Avg QP:22.83  size:   768\n",
      "[libx264 @ 0x55b38fcba780] frame B:150   Avg QP:23.34  size:    83\n",
      "[libx264 @ 0x55b38fcba780] consecutive B-frames:  1.8% 30.0%  1.3% 67.0%\n",
      "[libx264 @ 0x55b38fcba780] mb I  I16..4:  4.9% 22.9% 72.2%\n",
      "[libx264 @ 0x55b38fcba780] mb P  I16..4:  0.0%  0.0%  0.1%  P16..4: 22.5%  4.0%  6.6%  0.0%  0.0%    skip:66.8%\n",
      "[libx264 @ 0x55b38fcba780] mb B  I16..4:  0.0%  0.0%  0.0%  B16..8: 11.0%  0.6%  0.5%  direct: 1.2%  skip:86.6%  L0: 9.0% L1:86.6% BI: 4.4%\n",
      "[libx264 @ 0x55b38fcba780] 8x8 transform intra:20.8% inter:31.4%\n",
      "[libx264 @ 0x55b38fcba780] coded y intra: 93.2% inter: 5.6%\n",
      "[libx264 @ 0x55b38fcba780] i16 v,h,dc,p: 12% 62% 12% 12%\n",
      "[libx264 @ 0x55b38fcba780] i8 v,h,dc,ddl,ddr,vr,hd,vl,hu:  1% 44% 29%  1%  0%  2% 15%  2%  8%\n",
      "[libx264 @ 0x55b38fcba780] i4 v,h,dc,ddl,ddr,vr,hd,vl,hu: 10% 31% 13%  5%  6%  5% 11%  6% 14%\n",
      "[libx264 @ 0x55b38fcba780] i8c dc,h,v,p: 100%  0%  0%  0%\n",
      "[libx264 @ 0x55b38fcba780] Weighted P-Frames: Y:0.0%\n",
      "[libx264 @ 0x55b38fcba780] ref P L0: 83.6%  5.8%  7.2%  3.4%\n",
      "[libx264 @ 0x55b38fcba780] ref B L0: 88.2%  7.9%  3.9%\n",
      "[libx264 @ 0x55b38fcba780] ref B L1: 95.2%  4.8%\n",
      "[libx264 @ 0x55b38fcba780] kb/s:70.85\n"
     ]
    },
    {
     "data": {
      "text/html": [
       "\n",
       "        <video width=\"600\" height=\"400\" controls=\"\">\n",
       "        <source src=\"pumpjack_modified.mp4\">\n",
       "        </video>\n",
       "        "
      ],
      "text/plain": [
       "<IPython.core.display.HTML object>"
      ]
     },
     "execution_count": 3,
     "metadata": {},
     "output_type": "execute_result"
    }
   ],
   "source": [
    "#Display grayscale movie\n",
    "md.create_movie()\n",
    "md.display_movie()"
   ]
  },
  {
   "cell_type": "code",
   "execution_count": 4,
   "metadata": {},
   "outputs": [
    {
     "name": "stdout",
     "output_type": "stream",
     "text": [
      "(227, 36576)\n"
     ]
    },
    {
     "name": "stderr",
     "output_type": "stream",
     "text": [
      "ffmpeg version 4.3.6-0+deb11u1 Copyright (c) 2000-2023 the FFmpeg developers\n",
      "  built with gcc 10 (Debian 10.2.1-6)\n",
      "  configuration: --prefix=/usr --extra-version=0+deb11u1 --toolchain=hardened --libdir=/usr/lib/x86_64-linux-gnu --incdir=/usr/include/x86_64-linux-gnu --arch=amd64 --enable-gpl --disable-stripping --enable-avresample --disable-filter=resample --enable-gnutls --enable-ladspa --enable-libaom --enable-libass --enable-libbluray --enable-libbs2b --enable-libcaca --enable-libcdio --enable-libcodec2 --enable-libdav1d --enable-libflite --enable-libfontconfig --enable-libfreetype --enable-libfribidi --enable-libgme --enable-libgsm --enable-libjack --enable-libmp3lame --enable-libmysofa --enable-libopenjpeg --enable-libopenmpt --enable-libopus --enable-libpulse --enable-librabbitmq --enable-librsvg --enable-librubberband --enable-libshine --enable-libsnappy --enable-libsoxr --enable-libspeex --enable-libsrt --enable-libssh --enable-libtheora --enable-libtwolame --enable-libvidstab --enable-libvorbis --enable-libvpx --enable-libwavpack --enable-libwebp --enable-libx265 --enable-libxml2 --enable-libxvid --enable-libzmq --enable-libzvbi --enable-lv2 --enable-omx --enable-openal --enable-opencl --enable-opengl --enable-sdl2 --enable-pocketsphinx --enable-libmfx --enable-libdc1394 --enable-libdrm --enable-libiec61883 --enable-chromaprint --enable-frei0r --enable-libx264 --enable-shared\n",
      "  libavutil      56. 51.100 / 56. 51.100\n",
      "  libavcodec     58. 91.100 / 58. 91.100\n",
      "  libavformat    58. 45.100 / 58. 45.100\n",
      "  libavdevice    58. 10.100 / 58. 10.100\n",
      "  libavfilter     7. 85.100 /  7. 85.100\n",
      "  libavresample   4.  0.  0 /  4.  0.  0\n",
      "  libswscale      5.  7.100 /  5.  7.100\n",
      "  libswresample   3.  7.100 /  3.  7.100\n",
      "  libpostproc    55.  7.100 / 55.  7.100\n",
      "Input #0, image2, from 'images/pumpjack_modified%d.png':\n",
      "  Duration: 00:00:09.08, start: 0.000000, bitrate: N/A\n",
      "    Stream #0:0: Video: png, gray(pc), 254x144, 25 fps, 25 tbr, 25 tbn, 25 tbc\n",
      "Stream mapping:\n",
      "  Stream #0:0 -> #0:0 (png (native) -> h264 (libx264))\n",
      "Press [q] to stop, [?] for help\n",
      "[libx264 @ 0x5650a5ab2840] using cpu capabilities: MMX2 SSE2Fast SSSE3 SSE4.2 AVX FMA3 BMI2 AVX2\n",
      "[libx264 @ 0x5650a5ab2840] profile High, level 1.2, 4:0:0, 8-bit\n",
      "[libx264 @ 0x5650a5ab2840] 264 - core 160 r3011 cde9a93 - H.264/MPEG-4 AVC codec - Copyleft 2003-2020 - http://www.videolan.org/x264.html - options: cabac=1 ref=3 deblock=1:0:0 analyse=0x3:0x113 me=hex subme=7 psy=1 psy_rd=1.00:0.00 mixed_ref=1 me_range=16 chroma_me=0 trellis=1 8x8dct=1 cqm=0 deadzone=21,11 fast_pskip=1 chroma_qp_offset=-2 threads=3 lookahead_threads=1 sliced_threads=0 nr=0 decimate=1 interlaced=0 bluray_compat=0 constrained_intra=0 bframes=3 b_pyramid=2 b_adapt=1 b_bias=0 direct=1 weightb=1 open_gop=0 weightp=2 keyint=250 keyint_min=25 scenecut=40 intra_refresh=0 rc_lookahead=40 rc=crf mbtree=1 crf=23.0 qcomp=0.60 qpmin=0 qpmax=69 qpstep=4 ip_ratio=1.40 aq=1:1.00\n",
      "Output #0, mp4, to 'pumpjack_modified.mp4':\n",
      "  Metadata:\n",
      "    encoder         : Lavf58.45.100\n",
      "    Stream #0:0: Video: h264 (libx264) (avc1 / 0x31637661), gray, 254x144, q=-1--1, 25 fps, 12800 tbn, 25 tbc\n",
      "    Metadata:\n",
      "      encoder         : Lavc58.91.100 libx264\n",
      "    Side data:\n",
      "      cpb: bitrate max/min/avg: 0/0/0 buffer size: 0 vbv_delay: N/A\n",
      "frame=  227 fps=0.0 q=-1.0 Lsize=      56kB time=00:00:08.96 bitrate=  51.5kbits/s speed=  30x    \n",
      "video:53kB audio:0kB subtitle:0kB other streams:0kB global headers:0kB muxing overhead: 6.500360%\n",
      "[libx264 @ 0x5650a5ab2840] frame I:1     Avg QP:16.40  size:  1365\n",
      "[libx264 @ 0x5650a5ab2840] frame P:62    Avg QP:20.54  size:   577\n",
      "[libx264 @ 0x5650a5ab2840] frame B:164   Avg QP:18.32  size:   100\n",
      "[libx264 @ 0x5650a5ab2840] consecutive B-frames:  0.9%  6.2%  6.6% 86.3%\n",
      "[libx264 @ 0x5650a5ab2840] mb I  I16..4: 55.6% 13.2% 31.2%\n",
      "[libx264 @ 0x5650a5ab2840] mb P  I16..4:  0.8%  0.7%  1.0%  P16..4: 13.0%  8.1%  5.8%  0.0%  0.0%    skip:70.6%\n",
      "[libx264 @ 0x5650a5ab2840] mb B  I16..4:  0.0%  0.0%  0.0%  B16..8: 14.6%  1.2%  0.5%  direct: 1.0%  skip:82.7%  L0:38.3% L1:57.2% BI: 4.5%\n",
      "[libx264 @ 0x5650a5ab2840] 8x8 transform intra:22.2% inter:22.5%\n",
      "[libx264 @ 0x5650a5ab2840] coded y intra: 58.9% inter: 3.4%\n",
      "[libx264 @ 0x5650a5ab2840] i16 v,h,dc,p: 51% 16% 24%  9%\n",
      "[libx264 @ 0x5650a5ab2840] i8 v,h,dc,ddl,ddr,vr,hd,vl,hu: 13% 13% 49%  4%  3%  3%  5%  5%  6%\n",
      "[libx264 @ 0x5650a5ab2840] i4 v,h,dc,ddl,ddr,vr,hd,vl,hu: 22% 15% 39%  5%  4%  4%  4%  3%  4%\n",
      "[libx264 @ 0x5650a5ab2840] i8c dc,h,v,p: 100%  0%  0%  0%\n",
      "[libx264 @ 0x5650a5ab2840] Weighted P-Frames: Y:8.1%\n",
      "[libx264 @ 0x5650a5ab2840] ref P L0: 48.2% 33.8% 11.1%  6.5%  0.5%\n",
      "[libx264 @ 0x5650a5ab2840] ref B L0: 85.8%  9.9%  4.3%\n",
      "[libx264 @ 0x5650a5ab2840] ref B L1: 95.4%  4.6%\n",
      "[libx264 @ 0x5650a5ab2840] kb/s:47.14\n"
     ]
    },
    {
     "data": {
      "text/html": [
       "\n",
       "        <video width=\"600\" height=\"400\" controls=\"\">\n",
       "        <source src=\"pumpjack_modified.mp4\">\n",
       "        </video>\n",
       "        "
      ],
      "text/plain": [
       "<IPython.core.display.HTML object>"
      ]
     },
     "execution_count": 4,
     "metadata": {},
     "output_type": "execute_result"
    }
   ],
   "source": [
    "md.create_image_difference(rank=1)\n",
    "md.create_movie()\n",
    "md.display_movie()"
   ]
  },
  {
   "cell_type": "code",
   "execution_count": null,
   "metadata": {},
   "outputs": [],
   "source": []
  },
  {
   "cell_type": "code",
   "execution_count": null,
   "metadata": {},
   "outputs": [],
   "source": []
  }
 ],
 "metadata": {
  "kernelspec": {
   "display_name": "Python 3 (ipykernel)",
   "language": "python",
   "name": "python3"
  },
  "language_info": {
   "codemirror_mode": {
    "name": "ipython",
    "version": 3
   },
   "file_extension": ".py",
   "mimetype": "text/x-python",
   "name": "python",
   "nbconvert_exporter": "python",
   "pygments_lexer": "ipython3",
   "version": "3.10.14"
  }
 },
 "nbformat": 4,
 "nbformat_minor": 4
}
