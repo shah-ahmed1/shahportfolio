{
 "cells": [
  {
   "cell_type": "markdown",
   "metadata": {},
   "source": [
    "# Assignment 14\n",
    "\n",
    "I have provided a Python/NumPy implementation of a [PLU Decomposition](https://johnfoster.pge.utexas.edu/numerical-methods-book/LinearAlgebra_LU.html#Python/NumPy-implementation-of-$\\mathbf{PLU}$-decomposition) in the course notes.  Because this function makes use of NumPy broadcasting, it's about as fast as they can be in Python, but this efficiency is at the expense of code readability.\n",
    "\n",
    "We can make this function more readable and maintainable by using an object-oriented approach.  Your assignment is to complete the `LU` class below.  Specifically, you need to implement the `decomp` member function to perform the $\\mathbf{PLU}$ decomposition and store the resulting matrices in the class attributes `P, L` and `U`, respectively.  \n",
    "\n",
    "After that, implement `det` and `inverse` to compute the input matrix's determinant and inverse, respectively, with the $\\mathbf{PLU}$ decomposition.  I've already implemented the forward and backward substitution methods and call them from a function called `solve`.  If the argument to `solve` is a one-dimensional NumPy array, then a single solution is returned.  However, if the input to solve is a two-dimensional NumPy array, then each *row* is interpreted as a unique right-hand side vector and a two-dimensional NumPy array is returned with each *row* being a solution vector corresponding to the row of the input argument.  **Hint**: You should be able to implement `inverse` with a single call to `solve`.\n",
    "\n",
    "Use the `Matrix` class definition that you developed in in [assignment12](https://github.com/PGE310-Students/assignment12).  This class is instantiated as the class attribute objects `P, L` and `U` and allows for indexing operations similar to Python lists and NumPy arrays as well as the row operation functions.  Please use this class and it's member functions to implement your functions when appropriate."
   ]
  },
  {
   "cell_type": "code",
   "execution_count": 1,
   "metadata": {},
   "outputs": [],
   "source": [
    "import numpy as np\n",
    "\n",
    "from assignment12 import Matrix"
   ]
  },
  {
   "cell_type": "code",
   "execution_count": 18,
   "metadata": {},
   "outputs": [],
   "source": [
    "class LU():\n",
    "    def __init__(self, A):\n",
    "        self.n = A.shape[0]\n",
    "        self.U = Matrix(A.copy())\n",
    "        self.L = Matrix(np.eye(self.n))\n",
    "        self.P = Matrix(np.eye(self.n))\n",
    "        self.number_of_permutations = 0\n",
    "        self.decomp()\n",
    "        \n",
    "    def decomp(self):\n",
    "        for i in range(self.n):\n",
    "            k = i\n",
    "            while self.U[i,i] == 0:\n",
    "                self.U.row_swap(i, k+1)\n",
    "                self.P.row_swap(i, k+1)\n",
    "                self.number_of_permutations += 1\n",
    "                k += 1\n",
    "            for j in range(i+1, self.n):\n",
    "                factor = self.U()[j, i] / self.U()[i,i]\n",
    "                self.L[j, i] = factor\n",
    "                self.U.row_combine(j, i, factor)\n",
    "        return\n",
    "                \n",
    "\n",
    "    def forward_substitution(self, b):\n",
    "        b = np.dot(self.P(), b)\n",
    "        y = np.zeros_like(b, dtype=np.double)\n",
    "        y[0] = b[0] / self.L[0, 0]\n",
    "        for i in range(1, self.n):\n",
    "            y[i] = (b[i] - np.dot(self.L()[i,:i], y[:i])) / self.L[i,i]\n",
    "        return y\n",
    "\n",
    "    def back_substitution(self, y):\n",
    "        x = np.zeros_like(y, dtype=np.double)\n",
    "        x[-1] = y[-1] / self.U()[-1, -1]\n",
    "        for i in range(self.n-2, -1, -1):\n",
    "            x[i] = (y[i] - np.dot(self.U()[i,i+1:], x[i+1:])) / self.U[i,i]\n",
    "        return x\n",
    "    \n",
    "    def solve(self, b):\n",
    "        b = np.array(b)\n",
    "        if len(b.shape) == 1:\n",
    "            b = b.reshape(1, -1)\n",
    "        x = np.zeros_like(b, dtype=np.double)\n",
    "        for i in range(b.shape[0]):\n",
    "            y = self.forward_substitution(b[i])\n",
    "            x[:,i] = self.back_substitution(y)\n",
    "        return x[0] if x.shape[0] == 1 else x\n",
    "    \n",
    "    def det(self):\n",
    "        determinant = np.prod(np.diag(self.U()))\n",
    "        if self.number_of_permutations % 2 != 0:\n",
    "            determinant *= -1\n",
    "        return determinant\n",
    "    \n",
    "    def inverse(self):\n",
    "        I = np.eye(self.n)\n",
    "        return self.solve(I)"
   ]
  },
  {
   "cell_type": "code",
   "execution_count": 16,
   "metadata": {},
   "outputs": [
    {
     "data": {
      "text/plain": [
       "array([[ 0.5     , -0.265625,  0.09375 ],\n",
       "       [ 3.      , -1.375   ,  0.25    ],\n",
       "       [-2.      ,  1.03125 , -0.1875  ]])"
      ]
     },
     "execution_count": 16,
     "metadata": {},
     "output_type": "execute_result"
    }
   ],
   "source": [
    "A = np.array([[0, 3, 4], [4, 6, 10], [22, 1, 7]])\n",
    "sol = LU(A)\n",
    "sol.inverse()"
   ]
  },
  {
   "cell_type": "code",
   "execution_count": 17,
   "metadata": {},
   "outputs": [
    {
     "data": {
      "text/plain": [
       "array([[ 0.5     , -0.265625,  0.09375 ],\n",
       "       [ 3.      , -1.375   ,  0.25    ],\n",
       "       [-2.      ,  1.03125 , -0.1875  ]])"
      ]
     },
     "execution_count": 17,
     "metadata": {},
     "output_type": "execute_result"
    }
   ],
   "source": [
    "np.linalg.inv(A)"
   ]
  },
  {
   "cell_type": "code",
   "execution_count": null,
   "metadata": {},
   "outputs": [],
   "source": []
  }
 ],
 "metadata": {
  "kernelspec": {
   "display_name": "Python 3 (ipykernel)",
   "language": "python",
   "name": "python3"
  },
  "language_info": {
   "codemirror_mode": {
    "name": "ipython",
    "version": 3
   },
   "file_extension": ".py",
   "mimetype": "text/x-python",
   "name": "python",
   "nbconvert_exporter": "python",
   "pygments_lexer": "ipython3",
   "version": "3.10.2"
  }
 },
 "nbformat": 4,
 "nbformat_minor": 4
}
